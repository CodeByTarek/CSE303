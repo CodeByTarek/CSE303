{
  "nbformat": 4,
  "nbformat_minor": 0,
  "metadata": {
    "colab": {
      "name": "CSE303_Lab1.ipynb",
      "provenance": []
    },
    "kernelspec": {
      "name": "python3",
      "display_name": "Python 3"
    }
  },
  "cells": [
    {
      "cell_type": "markdown",
      "metadata": {
        "id": "PJrLUjG19gPp"
      },
      "source": [
        "#My First Notebook"
      ]
    },
    {
      "cell_type": "code",
      "metadata": {
        "colab": {
          "base_uri": "https://localhost:8080/"
        },
        "id": "s4IoMWHX9RMP",
        "outputId": "f09910fe-15ef-4369-929d-497654664a57"
      },
      "source": [
        "print(\"Hello World\")\n",
        "name = \"Alice\"\n",
        "age = 23\n",
        "print (\"%s is %d years old\" % (name, age))"
      ],
      "execution_count": null,
      "outputs": [
        {
          "output_type": "stream",
          "text": [
            "Hello World\n",
            "Alice is 23 years old\n"
          ],
          "name": "stdout"
        }
      ]
    },
    {
      "cell_type": "code",
      "metadata": {
        "colab": {
          "base_uri": "https://localhost:8080/"
        },
        "id": "G2C8H1et_BXI",
        "outputId": "628befab-5d92-4332-bfe5-480e5d0ca300"
      },
      "source": [
        "a = 10\n",
        "b = a\n",
        "\n",
        "print(type(a))\n",
        "print(id(a))\n",
        "\n",
        "print(type(b))\n",
        "print(id(b))\n",
        "print(isinstance(a, bool))"
      ],
      "execution_count": null,
      "outputs": [
        {
          "output_type": "stream",
          "text": [
            "<class 'int'>\n",
            "10914784\n",
            "<class 'int'>\n",
            "10914784\n",
            "False\n"
          ],
          "name": "stdout"
        }
      ]
    },
    {
      "cell_type": "code",
      "metadata": {
        "colab": {
          "base_uri": "https://localhost:8080/"
        },
        "id": "jQFwUTKSAr51",
        "outputId": "e79fd442-4fa0-4624-c9b8-dc402092a105"
      },
      "source": [
        "print (3**2) #exponent\n",
        "print (11//3) #floor division"
      ],
      "execution_count": null,
      "outputs": [
        {
          "output_type": "stream",
          "text": [
            "9\n",
            "3\n"
          ],
          "name": "stdout"
        }
      ]
    },
    {
      "cell_type": "code",
      "metadata": {
        "colab": {
          "base_uri": "https://localhost:8080/"
        },
        "id": "n4e5VRn6BKUO",
        "outputId": "b56184b1-9849-455f-a3a7-1ec06b569f49"
      },
      "source": [
        "# a list\n",
        "mylist = [1,2,3,4]\n",
        "mylist1 = [1,2,3,4]\n",
        "\n",
        "\n",
        "\n",
        "print(mylist==mylist1) # false\n",
        "\n",
        "print(mylist is mylist1)\n",
        "\n",
        "print"
      ],
      "execution_count": null,
      "outputs": [
        {
          "output_type": "stream",
          "text": [
            "True\n",
            "False\n"
          ],
          "name": "stdout"
        }
      ]
    },
    {
      "cell_type": "code",
      "metadata": {
        "colab": {
          "base_uri": "https://localhost:8080/"
        },
        "id": "U4ciKj-rB47J",
        "outputId": "b34d6467-00cf-4cd2-f513-dead53859fd9"
      },
      "source": [
        "x1 = 5\n",
        "y1 = 5\n",
        "\n",
        "print(id(x1))\n",
        "print(id(y1))\n",
        "\n",
        "\n",
        "print(x1==y1) #True\n",
        "print(x1 is y1) \n"
      ],
      "execution_count": null,
      "outputs": [
        {
          "output_type": "stream",
          "text": [
            "10914624\n",
            "10914624\n",
            "True\n",
            "True\n"
          ],
          "name": "stdout"
        }
      ]
    },
    {
      "cell_type": "code",
      "metadata": {
        "colab": {
          "base_uri": "https://localhost:8080/"
        },
        "id": "csJM-sEfC6Gm",
        "outputId": "d1162ce5-dadc-4ec7-aa22-6e97952eec79"
      },
      "source": [
        "x = 10 #0000 1010\n",
        "y = 4  #0000 0100\n",
        "\n",
        "print(x & y)\n",
        "print(x | y)\n",
        "print(~x)\n",
        "print(x ^ y)\n",
        "print(x>>2) #2\n",
        "print(x<<2) #40"
      ],
      "execution_count": null,
      "outputs": [
        {
          "output_type": "stream",
          "text": [
            "0\n",
            "14\n",
            "-11\n",
            "14\n",
            "2\n",
            "40\n"
          ],
          "name": "stdout"
        }
      ]
    },
    {
      "cell_type": "code",
      "metadata": {
        "colab": {
          "base_uri": "https://localhost:8080/"
        },
        "id": "Oc3NKZnFD2mm",
        "outputId": "5280f7b1-d7b9-467f-83b6-67302e03d588"
      },
      "source": [
        "marks = int(input(\"Enter your marks: \"))\n",
        "if marks >= 90:\n",
        "  print(\"The grade is \" + \"A\")\n",
        "elif marks >= 80:\n",
        "  print(\"The grade is B\")\n",
        "else:\n",
        "  print(\"The grade is C\")"
      ],
      "execution_count": null,
      "outputs": [
        {
          "output_type": "stream",
          "text": [
            "Enter your marks: 85\n",
            "The grade is B\n"
          ],
          "name": "stdout"
        }
      ]
    },
    {
      "cell_type": "code",
      "metadata": {
        "colab": {
          "base_uri": "https://localhost:8080/"
        },
        "id": "OL3SzAd7EnIg",
        "outputId": "e17f42ef-4dd3-4bab-8803-4958877bfc05"
      },
      "source": [
        "numbers = [1,2,3,4,5,6,7,8,9,10]\n",
        "\n",
        "for x in numbers:\n",
        "  print (x, \" \", x**2, \" \", x**3)\n"
      ],
      "execution_count": null,
      "outputs": [
        {
          "output_type": "stream",
          "text": [
            "1   1   1\n",
            "2   4   8\n",
            "3   9   27\n",
            "4   16   64\n",
            "5   25   125\n",
            "6   36   216\n",
            "7   49   343\n",
            "8   64   512\n",
            "9   81   729\n",
            "10   100   1000\n"
          ],
          "name": "stdout"
        }
      ]
    },
    {
      "cell_type": "code",
      "metadata": {
        "colab": {
          "base_uri": "https://localhost:8080/"
        },
        "id": "RLCLoUdjFM6D",
        "outputId": "4116f158-4d88-4221-9172-05930ebf0820"
      },
      "source": [
        "for x in range(3,5,2):\n",
        "  print(x)"
      ],
      "execution_count": null,
      "outputs": [
        {
          "output_type": "stream",
          "text": [
            "3\n"
          ],
          "name": "stdout"
        }
      ]
    }
  ]
}